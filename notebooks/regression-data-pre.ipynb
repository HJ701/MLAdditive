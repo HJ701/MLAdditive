{
 "cells": [
  {
   "cell_type": "markdown",
   "id": "7969334d",
   "metadata": {},
   "source": [
    "# Regression Data Preprocessing Pipeline\n",
    "This notebook is converted from a Python script. It prepares a dataset for training a regression model by handling data loading, encoding categorical features, and saving the processed output."
   ]
  },
  {
   "cell_type": "code",
   "execution_count": null,
   "id": "477b9212",
   "metadata": {},
   "outputs": [],
   "source": [
    "#!/usr/bin/env python3\n",
    "import pandas as pd\n",
    "from sklearn.compose import ColumnTransformer\n",
    "from sklearn.pipeline import Pipeline\n",
    "from sklearn.preprocessing import OneHotEncoder, StandardScaler\n",
    "\n"
   ]
  },
  {
   "cell_type": "markdown",
   "id": "2dc4e0e4",
   "metadata": {},
   "source": [
    "## Function: `load_data`\n",
    "This function handles a key part of the preprocessing pipeline."
   ]
  },
  {
   "cell_type": "code",
   "execution_count": null,
   "id": "72cb3500",
   "metadata": {},
   "outputs": [],
   "source": [
    "def load_data(path):\n",
    "    return pd.read_csv(path)\n",
    "\n"
   ]
  },
  {
   "cell_type": "markdown",
   "id": "af45fbc1",
   "metadata": {},
   "source": [
    "## Function: `preprocess`\n",
    "This function handles a key part of the preprocessing pipeline."
   ]
  },
  {
   "cell_type": "code",
   "execution_count": null,
   "id": "5cdd5f35",
   "metadata": {},
   "outputs": [],
   "source": [
    "def preprocess(df):\n",
    "    X = df.drop('Lifetime_years', axis=1)\n",
    "    y = df['Lifetime_years']\n",
    "\n",
    "    categorical_features = [\n",
    "        'Base_Resin','Environment',\n",
    "        'Primary_AO','Secondary_AO',\n",
    "        'Carbon_Black_Type','Wax_Type'\n",
    "    ]\n",
    "    numeric_to_scale = [\n",
    "        'SDR','Service_Pressure_bar',\n",
    "        'Service_Temperature_C',\n",
    "        'CB_Content_%','Wax_Content_%'\n",
    "    ]\n",
    "    numeric_to_keep = [\n",
    "        'Primary_AO_ppm','Secondary_AO_ppm'\n",
    "    ]\n",
    "\n",
    "    numeric_transformer = StandardScaler()\n",
    "    preprocessor = ColumnTransformer(transformers=[\n",
    "        ('num_scale', numeric_transformer, numeric_to_scale),\n",
    "        ('num_keep', 'passthrough', numeric_to_keep),\n",
    "        ('cat', OneHotEncoder(handle_unknown='ignore'), categorical_features)\n",
    "    ])\n",
    "\n",
    "    X_processed = preprocessor.fit_transform(X)\n",
    "    cat_names = preprocessor.named_transformers_['cat'].get_feature_names_out(categorical_features)\n",
    "    feature_names = numeric_to_scale + numeric_to_keep + list(cat_names)\n",
    "    X_processed = pd.DataFrame(X_processed, columns=feature_names)\n",
    "\n",
    "    return X_processed, y, preprocessor\n",
    "\n",
    "if __name__ == \"__main__\":\n",
    "    input_path = '/Users/hj/MLAdditive/data/iso9080_lifetime_dataset.csv'\n",
    "    output_path = '/Users/hj/MLAdditive/data/preprocessed.csv'\n",
    "\n",
    "    df = load_data(input_path)\n",
    "    X_proc, y, _ = preprocess(df)\n",
    "    df_out = X_proc.copy()\n",
    "    df_out['Lifetime_years'] = y\n",
    "    df_out.to_csv(output_path, index=False)\n",
    "    print(f\"Preprocessed data saved to {output_path}\")\n"
   ]
  }
 ],
 "metadata": {},
 "nbformat": 4,
 "nbformat_minor": 5
}
